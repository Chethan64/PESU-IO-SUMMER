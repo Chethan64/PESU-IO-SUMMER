{
  "nbformat": 4,
  "nbformat_minor": 0,
  "metadata": {
    "colab": {
      "name": "Untitled4.ipynb",
      "version": "0.3.2",
      "provenance": []
    },
    "kernelspec": {
      "name": "python3",
      "display_name": "Python 3"
    }
  },
  "cells": [
    {
      "cell_type": "markdown",
      "metadata": {
        "id": "nyCQUHWYaW5b",
        "colab_type": "text"
      },
      "source": [
        "IMPLEMENTING AN ARTIFICIAL NEURAL NETWORK ON CIFAR-10 DATASET"
      ]
    },
    {
      "cell_type": "code",
      "metadata": {
        "id": "h15YQpqAZlII",
        "colab_type": "code",
        "colab": {}
      },
      "source": [
        "class_names = ['Airplane', 'Automobile', 'Bird', 'Cat', 'Deer',\n",
        "               'Dog', 'Frog', 'Horse', 'Ship', 'Truck']"
      ],
      "execution_count": 0,
      "outputs": []
    },
    {
      "cell_type": "code",
      "metadata": {
        "id": "lqEOMD28Za_7",
        "colab_type": "code",
        "colab": {
          "base_uri": "https://localhost:8080/",
          "height": 34
        },
        "outputId": "ccbf1d4b-5a0f-49ce-eb87-6673d2a08e73"
      },
      "source": [
        "import tensorflow as tf\n",
        "from tensorflow import keras\n",
        "import numpy as np\n",
        "\n",
        "print(tf.__version__)"
      ],
      "execution_count": 1,
      "outputs": [
        {
          "output_type": "stream",
          "text": [
            "1.14.0\n"
          ],
          "name": "stdout"
        }
      ]
    },
    {
      "cell_type": "markdown",
      "metadata": {
        "id": "TdWxxFfiaiM2",
        "colab_type": "text"
      },
      "source": [
        "LOADING THE CIFAR-10 DATASET"
      ]
    },
    {
      "cell_type": "code",
      "metadata": {
        "id": "UQsxMHSAZhuk",
        "colab_type": "code",
        "colab": {}
      },
      "source": [
        "cifar10 = keras.datasets.cifar10\n",
        "(train_images, train_labels), (test_images, test_labels) = cifar10.load_data()"
      ],
      "execution_count": 0,
      "outputs": []
    },
    {
      "cell_type": "code",
      "metadata": {
        "id": "a21RLh2FZort",
        "colab_type": "code",
        "colab": {
          "base_uri": "https://localhost:8080/",
          "height": 34
        },
        "outputId": "8bada668-3900-483d-ac0a-6fde9d17cd7a"
      },
      "source": [
        "train_images.shape"
      ],
      "execution_count": 5,
      "outputs": [
        {
          "output_type": "execute_result",
          "data": {
            "text/plain": [
              "(50000, 32, 32, 3)"
            ]
          },
          "metadata": {
            "tags": []
          },
          "execution_count": 5
        }
      ]
    },
    {
      "cell_type": "code",
      "metadata": {
        "id": "hb104j2lZqMO",
        "colab_type": "code",
        "colab": {
          "base_uri": "https://localhost:8080/",
          "height": 34
        },
        "outputId": "fdee5ba9-2683-4a17-87f6-ff3373a2ca6c"
      },
      "source": [
        "len(train_images)"
      ],
      "execution_count": 6,
      "outputs": [
        {
          "output_type": "execute_result",
          "data": {
            "text/plain": [
              "50000"
            ]
          },
          "metadata": {
            "tags": []
          },
          "execution_count": 6
        }
      ]
    },
    {
      "cell_type": "code",
      "metadata": {
        "id": "IWnrUpZLZrsj",
        "colab_type": "code",
        "colab": {
          "base_uri": "https://localhost:8080/",
          "height": 34
        },
        "outputId": "86cc525a-7a35-46a4-89bb-c18894206f27"
      },
      "source": [
        "test_images.shape"
      ],
      "execution_count": 7,
      "outputs": [
        {
          "output_type": "execute_result",
          "data": {
            "text/plain": [
              "(10000, 32, 32, 3)"
            ]
          },
          "metadata": {
            "tags": []
          },
          "execution_count": 7
        }
      ]
    },
    {
      "cell_type": "code",
      "metadata": {
        "id": "pW7923EhZtI8",
        "colab_type": "code",
        "colab": {
          "base_uri": "https://localhost:8080/",
          "height": 34
        },
        "outputId": "1d685926-4a42-4e13-b86e-b818c42bd147"
      },
      "source": [
        "len(test_labels)"
      ],
      "execution_count": 8,
      "outputs": [
        {
          "output_type": "execute_result",
          "data": {
            "text/plain": [
              "10000"
            ]
          },
          "metadata": {
            "tags": []
          },
          "execution_count": 8
        }
      ]
    },
    {
      "cell_type": "markdown",
      "metadata": {
        "id": "3vVDEhYHar0R",
        "colab_type": "text"
      },
      "source": [
        "PREPROCESSING"
      ]
    },
    {
      "cell_type": "code",
      "metadata": {
        "id": "QDgc9SDlZupr",
        "colab_type": "code",
        "colab": {}
      },
      "source": [
        "train_images = train_images / 255.0\n",
        "\n",
        "test_images = test_images / 255.0"
      ],
      "execution_count": 0,
      "outputs": []
    },
    {
      "cell_type": "markdown",
      "metadata": {
        "id": "vR2xBZfdaw_O",
        "colab_type": "text"
      },
      "source": [
        "BUILDING THE NEURAL NETWORK"
      ]
    },
    {
      "cell_type": "code",
      "metadata": {
        "id": "umo1uNe-ZwfN",
        "colab_type": "code",
        "colab": {}
      },
      "source": [
        "model = keras.Sequential([\n",
        "    keras.layers.Flatten(input_shape=(32, 32, 3)),\n",
        "    keras.layers.Dense(128, activation=tf.nn.elu),\n",
        "    keras.layers.Dense(256, activation=tf.nn.relu),\n",
        "    keras.layers.Dense(10, activation=tf.nn.softmax)\n",
        "])"
      ],
      "execution_count": 0,
      "outputs": []
    },
    {
      "cell_type": "code",
      "metadata": {
        "id": "0SHLdoEuZzgT",
        "colab_type": "code",
        "colab": {}
      },
      "source": [
        " model.compile(optimizer='adam',\n",
        "              loss='sparse_categorical_crossentropy',\n",
        "              metrics=['accuracy'])"
      ],
      "execution_count": 0,
      "outputs": []
    },
    {
      "cell_type": "markdown",
      "metadata": {
        "id": "SUrxnGVOa1aI",
        "colab_type": "text"
      },
      "source": [
        "TRAINING THE MODEL"
      ]
    },
    {
      "cell_type": "code",
      "metadata": {
        "id": "OOw17pWvZ1-Y",
        "colab_type": "code",
        "colab": {
          "base_uri": "https://localhost:8080/",
          "height": 374
        },
        "outputId": "ef138e94-9da9-41cb-c621-ed2e9eba402a"
      },
      "source": [
        "model.fit(train_images, train_labels, epochs=10)"
      ],
      "execution_count": 12,
      "outputs": [
        {
          "output_type": "stream",
          "text": [
            "Epoch 1/10\n",
            "50000/50000 [==============================] - 8s 153us/sample - loss: 1.8466 - acc: 0.3315\n",
            "Epoch 2/10\n",
            "50000/50000 [==============================] - 8s 151us/sample - loss: 1.6634 - acc: 0.4036\n",
            "Epoch 3/10\n",
            "50000/50000 [==============================] - 8s 150us/sample - loss: 1.5943 - acc: 0.4263\n",
            "Epoch 4/10\n",
            "50000/50000 [==============================] - 7s 149us/sample - loss: 1.5432 - acc: 0.4471\n",
            "Epoch 5/10\n",
            "50000/50000 [==============================] - 7s 142us/sample - loss: 1.5046 - acc: 0.4607\n",
            "Epoch 6/10\n",
            "50000/50000 [==============================] - 7s 140us/sample - loss: 1.4813 - acc: 0.4705\n",
            "Epoch 7/10\n",
            "50000/50000 [==============================] - 7s 142us/sample - loss: 1.4515 - acc: 0.4794\n",
            "Epoch 8/10\n",
            "50000/50000 [==============================] - 7s 140us/sample - loss: 1.4267 - acc: 0.4880\n",
            "Epoch 9/10\n",
            "50000/50000 [==============================] - 8s 151us/sample - loss: 1.4098 - acc: 0.4932\n",
            "Epoch 10/10\n",
            "50000/50000 [==============================] - 8s 168us/sample - loss: 1.3886 - acc: 0.5037\n"
          ],
          "name": "stdout"
        },
        {
          "output_type": "execute_result",
          "data": {
            "text/plain": [
              "<tensorflow.python.keras.callbacks.History at 0x7f981dfe3f60>"
            ]
          },
          "metadata": {
            "tags": []
          },
          "execution_count": 12
        }
      ]
    },
    {
      "cell_type": "markdown",
      "metadata": {
        "id": "OkId4e-za8EF",
        "colab_type": "text"
      },
      "source": [
        "TESTING THE MODEL"
      ]
    },
    {
      "cell_type": "code",
      "metadata": {
        "id": "FcygXWKiZ4A9",
        "colab_type": "code",
        "colab": {
          "base_uri": "https://localhost:8080/",
          "height": 51
        },
        "outputId": "a2b9846a-aa47-4a17-98b8-f9ccb0b47e85"
      },
      "source": [
        "test_loss, test_acc = model.evaluate(test_images, test_labels)\n",
        "\n",
        "print('Test accuracy:', test_acc)"
      ],
      "execution_count": 13,
      "outputs": [
        {
          "output_type": "stream",
          "text": [
            "10000/10000 [==============================] - 1s 67us/sample - loss: 1.4517 - acc: 0.4836\n",
            "Test accuracy: 0.4836\n"
          ],
          "name": "stdout"
        }
      ]
    },
    {
      "cell_type": "code",
      "metadata": {
        "id": "jEioBrcdaMhF",
        "colab_type": "code",
        "colab": {}
      },
      "source": [
        ""
      ],
      "execution_count": 0,
      "outputs": []
    }
  ]
}